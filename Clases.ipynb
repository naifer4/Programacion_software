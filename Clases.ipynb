{
  "nbformat": 4,
  "nbformat_minor": 0,
  "metadata": {
    "colab": {
      "provenance": [],
      "authorship_tag": "ABX9TyOJrfMB0KfZ/HKc9Vd5h1ZL",
      "include_colab_link": true
    },
    "kernelspec": {
      "name": "python3",
      "display_name": "Python 3"
    },
    "language_info": {
      "name": "python"
    }
  },
  "cells": [
    {
      "cell_type": "markdown",
      "metadata": {
        "id": "view-in-github",
        "colab_type": "text"
      },
      "source": [
        "<a href=\"https://colab.research.google.com/github/naifer4/Programacion_software/blob/main/Clases.ipynb\" target=\"_parent\"><img src=\"https://colab.research.google.com/assets/colab-badge.svg\" alt=\"Open In Colab\"/></a>"
      ]
    },
    {
      "cell_type": "markdown",
      "source": [
        "<center>\n",
        "  <h1>🎓 Cuaderno de Aprendizaje: Clases y Objetos en 🐍 Python 🎓</h1>\n",
        "</center>\n",
        "\n",
        "**🎯 Objetivo:** Entender qué son las clases y los objetos en 🐍 Python, por qué son útiles y cómo crear y usar nuestras propias clases.\n",
        "\n"
      ],
      "metadata": {
        "id": "qz3ksWWrgx-0"
      }
    },
    {
      "cell_type": "markdown",
      "source": [
        "## 💡 1. Introducción: ¿Qué es la Programación Orientada a Objetos (POO)? 🧱\n",
        "\n",
        "Antes de hablar de `class`, hablemos un poco de la **Programación Orientada a Objetos (POO u OOP en inglés)**. Es un **paradigma** (una forma de pensar y estructurar el código) que se basa en el concepto de **\"objetos\"**.\n",
        "\n",
        "Imagina que estás construyendo algo complejo, como un 🚗 coche o una 🏠 casa. En lugar de tener un montón de piezas sueltas por todas partes, las organizas en componentes más grandes y lógicos: el motor, las ruedas, el chasis, el sistema eléctrico, etc. Cada uno de estos componentes tiene sus propias características y funciones.\n",
        "\n",
        "La POO aplica una idea similar al software. Organizamos nuestro código agrupando **datos (atributos 🏷️)** y **comportamientos (métodos ⚙️)** que están relacionados entre sí dentro de \"objetos\" 📦.\n",
        "\n",
        "**🌟 Beneficios clave de la POO:**\n",
        "\n",
        "1.  ✅ **Organización:** El código es más fácil de entender y mantener.\n",
        "2.  ♻️ **Reutilización:** Podemos crear múltiples objetos a partir de una sola \"plantilla\" y reutilizar código existente.\n",
        "3.  🧩 **Modularidad:** Cada objeto es una unidad independiente, lo que facilita la modificación o reemplazo de partes del sistema sin afectar otras.\n",
        "4.  🙈 **Abstracción:** Ocultamos los detalles complejos y mostramos solo la funcionalidad esencial.\n",
        "\n",
        "🐍 Python es un lenguaje que soporta fuertemente la POO, y las `clases` son la herramienta fundamental para implementarla."
      ],
      "metadata": {
        "id": "EciVEd6bjqKq"
      }
    },
    {
      "cell_type": "markdown",
      "source": [
        "## 💡 2. ¿Qué es una Clase? 📜\n",
        "\n",
        "Piensa en una **clase** como una **plantilla**, un **molde** 🏭 o un **plano** 📐 para crear objetos. Define:\n",
        "\n",
        "1.  **Qué información (datos/atributos 🏷️)** tendrán los objetos creados a partir de ella.\n",
        "2.  **Qué acciones (comportamientos/métodos ⚙️)** podrán realizar esos objetos.\n",
        "\n",
        "**🤔 Ejemplo de Analogía:**\n",
        "\n",
        "*   **Clase:** El plano de una 🏠 (`PlanoCasa`). Define que tendrá habitaciones, baños, cocina, puertas, ventanas (**atributos**) y que se podrá abrir/cerrar puertas, encender/apagar luces (**métodos**).\n",
        "*   **Clase:** La receta de una 🍪 (`RecetaGalleta`). Define los ingredientes (harina, azúcar, huevos - **atributos**) y los pasos para prepararla (mezclar, hornear - **métodos**).\n",
        "\n",
        "En 🐍 Python, usamos la palabra clave `class` para definir una clase."
      ],
      "metadata": {
        "id": "vUCgkQdykDIO"
      }
    },
    {
      "cell_type": "markdown",
      "source": [
        "## 💡 3. ¿Qué es un Objeto (o Instancia)? 📦\n",
        "\n",
        "Un **objeto** (también llamado **instancia**) es una **realización concreta** creada a partir de una clase. Si la clase es el plano 📜, el objeto es la casa 🏠 construida a partir de ese plano. Si la clase es la receta 🍪, el objeto es la galleta específica que horneaste.\n",
        "\n",
        "*   Puedes tener **muchos objetos** creados a partir de la **misma clase**.\n",
        "*   Cada objeto tendrá su **propia copia** de los atributos definidos en la clase (aunque pueden compartir valores iniciales o atributos de clase, lo veremos más adelante).\n",
        "*   Cada objeto puede **ejecutar los métodos** definidos en la clase.\n",
        "\n",
        "**🤔 Ejemplo de Analogía:**\n",
        "\n",
        "*   **Clase:** `PlanoCasa` 📜\n",
        "*   **Objetos:** `miCasa` 🏠, `laCasaDelVecino` 🏡 (ambas construidas con `PlanoCasa`, pero son casas distintas, quizás con diferente color de pintura o muebles).\n",
        "*   **Clase:** `RecetaGalleta` 🍪\n",
        "*   **Objetos:** `galleta1`, `galleta2`, `galleta3` (todas hechas con la misma receta, pero son galletas individuales)."
      ],
      "metadata": {
        "id": "ox5sLxBfkQ7S"
      }
    },
    {
      "cell_type": "markdown",
      "source": [
        "## 💡 4. Creando Nuestra Primera Clase en 🐍 Python\n",
        "\n",
        "Vamos a crear una clase simple para representar un `Perro` 🐕."
      ],
      "metadata": {
        "id": "g--7DREgkngM"
      }
    },
    {
      "cell_type": "code",
      "source": [
        "# Sintaxis para definir una clase\n",
        "class NombreDeLaClase:\n",
        "    # Atributos y métodos van aquí\n",
        "    pass # 'pass' es una instrucción nula, la usamos cuando no hay nada que poner aún"
      ],
      "metadata": {
        "id": "9gpomFSsk0Qe"
      },
      "execution_count": null,
      "outputs": []
    },
    {
      "cell_type": "markdown",
      "source": [
        "*   Los nombres de las clases suelen empezar con Mayúscula y usar CamelCase (ej. `MiClaseSuperUtil`).\n",
        "*   El `pass` indica que la clase está vacía por ahora.\n",
        "\n",
        "**💻 Código:** Definamos la clase `Perro` 🐕."
      ],
      "metadata": {
        "id": "aTKVmr8pk_1H"
      }
    },
    {
      "cell_type": "code",
      "source": [
        "class Perro:\n",
        "    pass # Por ahora, una clase vacía\n",
        "\n",
        "# Ahora podemos crear objetos (instancias) de esta clase\n",
        "# Esto se llama \"instanciar la clase\"\n",
        "mi_perro = Perro()\n",
        "otro_perro = Perro()\n",
        "\n",
        "# Veamos qué tipo de dato son (spoiler: serán 'Perro')\n",
        "print(type(mi_perro))\n",
        "print(type(otro_perro))\n",
        "\n",
        "# Por ahora, nuestros perros no hacen ni tienen nada especial.\n",
        "# Son objetos 'vacíos' basados en la plantilla 'Perro'.\n",
        "# Verás que Python nos dice que son objetos 'Perro' en cierta dirección de memoria.\n",
        "print(mi_perro)\n",
        "print(otro_perro) # Notarás que son objetos diferentes en memoria"
      ],
      "metadata": {
        "colab": {
          "base_uri": "https://localhost:8080/"
        },
        "collapsed": true,
        "id": "AL0KCZBWlG-h",
        "outputId": "df6f43d2-45d8-4743-8281-01127e90fda5"
      },
      "execution_count": 1,
      "outputs": [
        {
          "output_type": "stream",
          "name": "stdout",
          "text": [
            "<class '__main__.Perro'>\n",
            "<class '__main__.Perro'>\n",
            "<__main__.Perro object at 0x7f59d839e550>\n",
            "<__main__.Perro object at 0x7f59d839c450>\n"
          ]
        }
      ]
    },
    {
      "cell_type": "markdown",
      "source": [
        "## 💡 5. El Método Constructor `__init__` ✨\n",
        "\n",
        "Nuestra clase `Perro` 🐕 es muy básica. ¿Cómo le damos a cada perro un nombre o una raza *al momento de crearlo*? Usamos un método especial llamado `__init__` (se pronuncia \"dunder init\", por los doble guiones bajos - double underscores).\n",
        "\n",
        "*   `__init__` es el **constructor** de la clase. ¡Es como la \"fábrica\" del objeto!\n",
        "*   Se ejecuta **automáticamente** cada vez que creas un nuevo objeto (instancia) de la clase (`Perro(...)`).\n",
        "*   Se usa principalmente para **inicializar los atributos 🏷️** del objeto.\n",
        "*   El primer parámetro de `__init__` (y de la mayoría de los métodos de instancia) es siempre `self`.\n",
        "\n",
        "**🤔 ¿Qué es `self`? 👉**\n",
        "\n",
        "*   `self` representa la **instancia específica** del objeto que se está creando o sobre la que se está trabajando. ¡Es el objeto mismo!\n",
        "*   A través de `self`, podemos acceder a los atributos (`self.nombre`) y métodos (`self.ladrar()`) de *ese* objeto en particular.\n",
        "*   Aunque lo llamamos `self` por convención (¡y deberías seguirla!), técnicamente podrías llamarlo de otra forma (¡pero no lo hagas! 😉).\n",
        "\n",
        "**💻 Código:** Añadamos `__init__` a nuestra clase `Perro` 🐕 para darle un nombre y una raza."
      ],
      "metadata": {
        "id": "RMTxx3-WldIM"
      }
    },
    {
      "cell_type": "code",
      "source": [
        "class Perro:\n",
        "    # El método constructor ✨\n",
        "    # Recibe 'self' (la instancia que se crea) y los parámetros que le pasemos\n",
        "    def __init__(self, nombre_param, raza_param):\n",
        "        print(f\"🛠️ Creando un nuevo perro...\")\n",
        "        # 'self' se refiere a la instancia que se está creando (ej. 'fido' o 'luna')\n",
        "        # Creamos atributos de instancia y les asignamos los valores recibidos\n",
        "        # self.nuevo_atributo = valor_del_parametro\n",
        "        self.nombre = nombre_param\n",
        "        self.raza = raza_param\n",
        "        print(f\"¡Guau! 🐾 Se ha creado un perro llamado {self.nombre}, de raza {self.raza}\")\n",
        "\n",
        "# Ahora, al crear un objeto Perro, DEBEMOS pasar los argumentos para nombre y raza\n",
        "# Estos argumentos se pasan a los parámetros de __init__ (después de self)\n",
        "fido = Perro(\"Fido\", \"Labrador\")\n",
        "luna = Perro(\"Luna\", \"Husky Siberiano\")\n",
        "\n",
        "# Podemos acceder a los atributos de cada instancia usando la notación de punto (.)\n",
        "print(\"--------------------\")\n",
        "print(f\"Mi primer perro se llama {fido.nombre} y es un {fido.raza}\")\n",
        "print(f\"Mi segundo perro se llama {luna.nombre} y es un {luna.raza}\")\n",
        "\n",
        "# Fido y Luna son objetos Perro DIFERENTES, cada uno con sus PROPIOS atributos\n",
        "print(fido.nombre) # Salida: Fido\n",
        "print(luna.nombre) # Salida: Luna"
      ],
      "metadata": {
        "id": "F8bDNjDclxpb"
      },
      "execution_count": null,
      "outputs": []
    },
    {
      "cell_type": "markdown",
      "source": [
        "**📝 Mini-Resumen:**\n",
        "\n",
        "*   `class Perro:` define la plantilla 📜.\n",
        "*   `__init__` es el constructor ✨ que se ejecuta al crear un objeto (`Perro(...)`).\n",
        "*   `self` 👉 es la referencia al objeto mismo que se está creando.\n",
        "*   `self.nombre = nombre_param` crea un atributo `nombre` 🏷️ en el objeto `self` y le asigna el valor del parámetro `nombre_param`.\n",
        "*   `fido = Perro(\"Fido\", \"Labrador\")` crea un objeto (instancia) 📦 llamado `fido`, ejecutando `__init__` con `self` apuntando a `fido`, `nombre_param=\"Fido\"` y `raza_param=\"Labrador\"`.\n"
      ],
      "metadata": {
        "id": "-4OCba12mKbH"
      }
    },
    {
      "cell_type": "markdown",
      "source": [
        "## 💡 6. Métodos de Instancia ⚙️\n",
        "\n",
        "Además de atributos (datos 🏷️), los objetos tienen comportamientos (acciones ✅). Estos se definen como **métodos** dentro de la clase. Los métodos son simplemente **funciones definidas dentro de una clase**.\n",
        "\n",
        "*   Los métodos de instancia (los más comunes) también reciben `self` 👉 como su primer parámetro. Esto les permite acceder y/o modificar los atributos del objeto específico que los llama.\n",
        "\n",
        "**💻 Código:** Añadamos métodos a nuestra clase `Perro` 🐕.\n"
      ],
      "metadata": {
        "id": "xVhjvhsnmXaZ"
      }
    },
    {
      "cell_type": "code",
      "source": [
        "class Perro:\n",
        "    def __init__(self, nombre_param, raza_param):\n",
        "        self.nombre = nombre_param\n",
        "        self.raza = raza_param\n",
        "        self.trucos = [] # Nuevo atributo: una lista para guardar trucos aprendidos 🦴\n",
        "\n",
        "    # Método para ladrar 🗣️\n",
        "    def ladrar(self):\n",
        "        # Usamos self.nombre para saber QUÉ perro está ladrando\n",
        "        print(f\"{self.nombre} dice: ¡Guau guau! 📣\")\n",
        "\n",
        "    # Método para aprender un truco 🎓\n",
        "    def aprender_truco(self, truco_nuevo):\n",
        "        if truco_nuevo not in self.trucos:\n",
        "            self.trucos.append(truco_nuevo)\n",
        "            print(f\"🎉 ¡{self.nombre} ha aprendido a '{truco_nuevo}'!\")\n",
        "        else:\n",
        "            print(f\"🤔 {self.nombre} ya sabía hacer '{truco_nuevo}'.\")\n",
        "\n",
        "    # Método para mostrar los trucos aprendidos 📜\n",
        "    def mostrar_trucos(self):\n",
        "        if self.trucos:\n",
        "            print(f\"✨ {self.nombre} sabe hacer:\")\n",
        "            for truco in self.trucos:\n",
        "                print(f\"  - {truco}\")\n",
        "        else:\n",
        "            print(f\"😅 {self.nombre} no sabe trucos todavía.\")\n",
        "\n",
        "# Creamos instancias 📦\n",
        "fido = Perro(\"Fido\", \"Labrador\")\n",
        "luna = Perro(\"Luna\", \"Husky Siberiano\")\n",
        "\n",
        "# Llamamos a sus métodos usando la notación de punto (.)\n",
        "# objeto.metodo(argumentos)\n",
        "print(\"--- ¡A ladrar! ---\")\n",
        "fido.ladrar() # Salida: Fido dice: ¡Guau guau! 📣\n",
        "luna.ladrar() # Salida: Luna dice: ¡Guau guau! 📣\n",
        "\n",
        "print(\"\\n--- 🎓 Aprendiendo trucos ---\")\n",
        "fido.aprender_truco(\"sentarse\")\n",
        "luna.aprender_truco(\"dar la pata\")\n",
        "fido.aprender_truco(\"rodar\")\n",
        "fido.aprender_truco(\"sentarse\") # Intentar aprender el mismo truco\n",
        "\n",
        "print(\"\\n--- ✨ Mostrando trucos ---\")\n",
        "fido.mostrar_trucos()\n",
        "print(\"-\" * 20)\n",
        "luna.mostrar_trucos()"
      ],
      "metadata": {
        "colab": {
          "base_uri": "https://localhost:8080/"
        },
        "collapsed": true,
        "id": "2eSSKDP3mmgS",
        "outputId": "33da9fd1-0683-4c3d-f8fd-33c7752aa006"
      },
      "execution_count": 2,
      "outputs": [
        {
          "output_type": "stream",
          "name": "stdout",
          "text": [
            "--- ¡A ladrar! ---\n",
            "Fido dice: ¡Guau guau! 📣\n",
            "Luna dice: ¡Guau guau! 📣\n",
            "\n",
            "--- 🎓 Aprendiendo trucos ---\n",
            "🎉 ¡Fido ha aprendido a 'sentarse'!\n",
            "🎉 ¡Luna ha aprendido a 'dar la pata'!\n",
            "🎉 ¡Fido ha aprendido a 'rodar'!\n",
            "🤔 Fido ya sabía hacer 'sentarse'.\n",
            "\n",
            "--- ✨ Mostrando trucos ---\n",
            "✨ Fido sabe hacer:\n",
            "  - sentarse\n",
            "  - rodar\n",
            "--------------------\n",
            "✨ Luna sabe hacer:\n",
            "  - dar la pata\n"
          ]
        }
      ]
    },
    {
      "cell_type": "markdown",
      "source": [
        "**👀 Observa:**\n",
        "\n",
        "*   Cada método (`ladrar`, `aprender_truco`, `mostrar_trucos`) tiene `self` 👉 como primer parámetro.\n",
        "*   Dentro de los métodos, usamos `self.nombre` para acceder al nombre del perro *específico* que está ladrando o aprendiendo, y `self.trucos` para acceder a *su* lista de trucos 🦴.\n",
        "*   Llamamos a los métodos usando `nombre_del_objeto.nombre_del_metodo(argumentos)`. 🐍 Python pasa `self` automáticamente por nosotros.\n"
      ],
      "metadata": {
        "id": "bmiYdhGknHCV"
      }
    },
    {
      "cell_type": "markdown",
      "source": [
        "## 💡 7. Atributos de Clase 🔗\n",
        "\n",
        "A veces, queremos tener un atributo que sea **compartido por TODAS las instancias** de una clase, en lugar de ser específico para cada una. Estos se llaman **atributos de clase**.\n",
        "\n",
        "*   Se definen **directamente dentro de la clase**, fuera de cualquier método (incluido `__init__`).\n",
        "*   Se accede a ellos usando el nombre de la clase (`NombreClase.atributo`) o a través de una instancia (`self.atributo` o `instancia.atributo`), aunque es más claro y recomendable usar el nombre de la clase para referirse a ellos.\n",
        "\n",
        "**💻 Código:** Añadamos un atributo de clase `especie` a `Perro` 🐕. Todos los perros son de la misma especie, ¡es algo compartido!\n"
      ],
      "metadata": {
        "id": "dY5CpfP3nWdu"
      }
    },
    {
      "cell_type": "code",
      "source": [
        "class Perro:\n",
        "    # Atributo de clase (compartido por todos los perros) 🔗\n",
        "    # Definido DENTRO de la clase, pero FUERA de __init__ o cualquier otro método\n",
        "    especie = \"Canis lupus familiaris\"\n",
        "\n",
        "    def __init__(self, nombre_param, raza_param):\n",
        "        # Atributos de instancia (específicos de cada perro) 🏷️\n",
        "        self.nombre = nombre_param\n",
        "        self.raza = raza_param\n",
        "\n",
        "    def descripcion(self):\n",
        "        # Podemos acceder al atributo de clase usando self o NombreClase\n",
        "        print(f\"🐶 Soy {self.nombre}, un {self.raza}.\")\n",
        "        # Es más explícito acceder vía la Clase\n",
        "        print(f\"🧬 Pertenezco a la especie: {Perro.especie}\")\n",
        "        # Aunque también funciona vía self (busca primero en instancia, luego en clase)\n",
        "        # print(f\"🧬 Pertenezco a la especie: {self.especie}\")\n",
        "\n",
        "# Creamos instancias 📦\n",
        "fido = Perro(\"Fido\", \"Labrador\")\n",
        "luna = Perro(\"Luna\", \"Husky Siberiano\")\n",
        "\n",
        "print(\"--- Descripciones ---\")\n",
        "fido.descripcion()\n",
        "print(\"-\" * 20)\n",
        "luna.descripcion()\n",
        "\n",
        "# Podemos acceder al atributo de clase directamente desde la Clase\n",
        "print(f\"\\nℹ️ Todos los perros pertenecen a la especie: {Perro.especie}\")\n",
        "\n",
        "# ¡Cuidado! Si modificas el atributo de clase a través de la Clase,\n",
        "# afecta a todas las futuras referencias (a menos que una instancia lo haya 'sobrescrito' para sí misma).\n",
        "# Perro.especie = \"Algo diferente\" # No recomendado hacerlo así usualmente sin una buena razón\n",
        "# fido.descripcion() # Ahora mostraría \"Algo diferente\" si no lo hubiéramos accedido explícitamente con Perro.especie antes"
      ],
      "metadata": {
        "id": "E3MbKWmrn4gy"
      },
      "execution_count": null,
      "outputs": []
    },
    {
      "cell_type": "markdown",
      "source": [
        "## 💡 8. El Método Especial `__str__` 💬\n",
        "\n",
        "¿Recuerdas que cuando hicimos `print(mi_perro)` al principio, salía algo como `<__main__.Perro object at 0x...>`? Eso no es muy útil para saber *qué* perro es.\n",
        "\n",
        "Podemos definir un método especial `__str__` para controlar cómo se representa un objeto como una **cadena de texto (string)** legible para humanos cuando usamos `print()` o `str()`.\n",
        "\n",
        "*   Debe devolver una **cadena de texto (string)**.\n",
        "\n",
        "**💻 Código:** Añadamos `__str__` a nuestra clase `Perro` 🐕."
      ],
      "metadata": {
        "id": "aKIpdg_GoM8m"
      }
    },
    {
      "cell_type": "code",
      "source": [
        "class Perro:\n",
        "    # Atributo de clase 🔗\n",
        "    especie = \"Canis lupus familiaris\"\n",
        "\n",
        "    def __init__(self, nombre_param, raza_param):\n",
        "        # Atributos de instancia 🏷️\n",
        "        self.nombre = nombre_param\n",
        "        self.raza = raza_param\n",
        "\n",
        "    def ladrar(self):\n",
        "        # Método de instancia ⚙️\n",
        "        print(f\"{self.nombre} dice: ¡Guau guau! 📣\")\n",
        "\n",
        "    # Método especial para representación como string 💬\n",
        "    def __str__(self):\n",
        "        # Debe retornar SIEMPRE una cadena (string)\n",
        "        return f\"🐕 Perro(Nombre: {self.nombre}, Raza: {self.raza})\"\n",
        "\n",
        "# Creamos instancias 📦\n",
        "fido = Perro(\"Fido\", \"Labrador\")\n",
        "luna = Perro(\"Luna\", \"Husky Siberiano\")\n",
        "\n",
        "# Ahora, al imprimir el objeto, se llamará automáticamente a __str__\n",
        "print(\"--- Usando print() ---\")\n",
        "print(fido)\n",
        "print(luna)\n",
        "\n",
        "# También se usa al convertir a string explícitamente con str()\n",
        "descripcion_fido = str(fido)\n",
        "print(f\"\\n--- Usando str() ---\")\n",
        "print(f\"Descripción de Fido: {descripcion_fido}\")"
      ],
      "metadata": {
        "id": "hzt8myTgocC3"
      },
      "execution_count": null,
      "outputs": []
    },
    {
      "cell_type": "markdown",
      "source": [
        "## 💡 9. Poniéndolo Todo Junto: Ejemplo `Estudiante` 🧑‍💻\n",
        "\n",
        "Vamos a crear otra clase para practicar, representando un `Estudiante`.\n",
        "\n",
        "**💻 Código:**"
      ],
      "metadata": {
        "id": "tve-v7xjpLBV"
      }
    },
    {
      "cell_type": "code",
      "source": [
        "class Aprendiz:\n",
        "    # Atributo de clase: Institución a la que pertenecen todos 🔗\n",
        "    institucion = \"SENA - Servicio Nacional de Aprendizaje\"\n",
        "\n",
        "    def __init__(self, nombre_completo, id_aprendiz, curso_inicial):\n",
        "        # Atributos de instancia 🏷️\n",
        "        self.nombre = nombre_completo\n",
        "        self.id = id_aprendiz\n",
        "        self.cursos = [curso_inicial] # Una lista para guardar los cursos 📚\n",
        "        self.activo = True # Por defecto, un estudiante está activo ✅\n",
        "\n",
        "    # Representación como string 💬\n",
        "    def __str__(self):\n",
        "        estado = \"🟢 Activo\" if self.activo else \"🔴 Inactivo\"\n",
        "        return f\"🧑‍🎓 Aprendiz(ID: {self.id}, Nombre: {self.nombre}, Estado: {estado})\"\n",
        "\n",
        "    # Método para inscribir un curso ⚙️\n",
        "    def inscribir_curso(self, nuevo_curso):\n",
        "        if self.activo:\n",
        "            if nuevo_curso not in self.cursos:\n",
        "                self.cursos.append(nuevo_curso)\n",
        "                print(f\"✅ {self.nombre} se ha inscrito en '{nuevo_curso}'.\")\n",
        "            else:\n",
        "                print(f\"ℹ️ {self.nombre} ya estaba inscrito en '{nuevo_curso}'.\")\n",
        "        else:\n",
        "            print(f\"❌ Error: {self.nombre} está {self.activo} y no puede inscribir cursos.\")\n",
        "\n",
        "    # Método para mostrar información completa ⚙️\n",
        "    def mostrar_info(self):\n",
        "        print(f\"--- ℹ️ Información del Aprendiz ---\")\n",
        "        print(f\"👤 Nombre: {self.nombre}\")\n",
        "        print(f\"💳 ID: {self.id}\")\n",
        "        print(f\"🏢 Institución: {self.institucion}\") # Accediendo atributo de clase\n",
        "        print(f\"🚦 Estado: {'🟢 Activo' if self.activo else '🔴 Inactivo'}\")\n",
        "        print(\"📚 Cursos inscritos:\")\n",
        "        if self.cursos:\n",
        "            for curso in self.cursos:\n",
        "                print(f\"  - {curso}\")\n",
        "        else:\n",
        "            print(\"  (Ninguno)\")\n",
        "        print(\"-\" * 35)\n",
        "\n",
        "    # Método para cambiar el estado del aprendiz ⚙️\n",
        "    def cambiar_estado(self, nuevo_estado: bool):\n",
        "      if isinstance(nuevo_estado, bool):\n",
        "        self.activo = nuevo_estado\n",
        "        estado_str = '🟢 Activo' if self.activo else '🔴 Inactivo'\n",
        "        print(f\"🔄 El estado de {self.nombre} ha cambiado a {estado_str}.\")\n",
        "      else:\n",
        "        print(\"❌ Error: El estado debe ser un valor booleano (True o False).\")\n",
        "\n",
        "\n",
        "# --- 🚀 Uso de la clase Aprendiz ---\n",
        "print(f\"🏫 Todos los estudiantes son de: {Aprendiz.institucion}\")\n",
        "\n",
        "# Crear aprendices (instancias 📦)\n",
        "aprendiz1 = Aprendiz(\"Ana García\", \"E001\", \"Introducción a 🐍 Python\")\n",
        "aprendiz2 = Aprendiz(\"Luis Pérez\", \"E002\", \"Bases de Datos SQL\")\n",
        "\n",
        "# Mostrar información inicial\n",
        "print(\"\\n--- 📋 Información Inicial ---\")\n",
        "aprendiz1.mostrar_info()\n",
        "aprendiz2.mostrar_info()\n",
        "\n",
        "# Usar los métodos ⚙️\n",
        "print(\"\\n--- ⚙️ Operaciones ---\")\n",
        "aprendiz1.inscribir_curso(\"Programación Web con Flask\")\n",
        "aprendiz1.inscribir_curso(\"Introducción a 🐍 Python\") # Ya inscrito\n",
        "aprendiz2.inscribir_curso(\"Algoritmos y Estructuras de Datos\")\n",
        "\n",
        "# Cambiar estado e intentar inscribir\n",
        "print(\"\\n--- 🚦 Cambiando Estado ---\")\n",
        "aprendiz2.cambiar_estado(False) # Ponerlo inactivo 🔴\n",
        "aprendiz2.inscribir_curso(\"Inteligencia Artificial\") # Intentar inscribir estando inactivo ❌\n",
        "aprendiz2.cambiar_estado(True) # Volver a activar 🟢\n",
        "aprendiz2.inscribir_curso(\"Inteligencia Artificial\") # Intentar inscribir estando activo ✅\n",
        "\n",
        "\n",
        "# Mostrar información final (usando __str__ y mostrar_info)\n",
        "print(\"\\n--- 📊 Información Final ---\")\n",
        "print(aprendiz1) # Usa __str__ 💬\n",
        "print(aprendiz2) # Usa __str__ 💬\n",
        "\n",
        "aprendiz1.mostrar_info()\n",
        "aprendiz2.mostrar_info()"
      ],
      "metadata": {
        "colab": {
          "base_uri": "https://localhost:8080/"
        },
        "collapsed": true,
        "id": "3YsHl2CVpT0l",
        "outputId": "b1fcddc3-6257-449f-eeea-765aca4bec7f"
      },
      "execution_count": 3,
      "outputs": [
        {
          "output_type": "stream",
          "name": "stdout",
          "text": [
            "🏫 Todos los estudiantes son de: SENA - Servicio Nacional de Aprendizaje\n",
            "\n",
            "--- 📋 Información Inicial ---\n",
            "--- ℹ️ Información del Aprendiz ---\n",
            "👤 Nombre: Ana García\n",
            "💳 ID: E001\n",
            "🏢 Institución: SENA - Servicio Nacional de Aprendizaje\n",
            "🚦 Estado: 🟢 Activo\n",
            "📚 Cursos inscritos:\n",
            "  - Introducción a 🐍 Python\n",
            "-----------------------------------\n",
            "--- ℹ️ Información del Aprendiz ---\n",
            "👤 Nombre: Luis Pérez\n",
            "💳 ID: E002\n",
            "🏢 Institución: SENA - Servicio Nacional de Aprendizaje\n",
            "🚦 Estado: 🟢 Activo\n",
            "📚 Cursos inscritos:\n",
            "  - Bases de Datos SQL\n",
            "-----------------------------------\n",
            "\n",
            "--- ⚙️ Operaciones ---\n",
            "✅ Ana García se ha inscrito en 'Programación Web con Flask'.\n",
            "ℹ️ Ana García ya estaba inscrito en 'Introducción a 🐍 Python'.\n",
            "✅ Luis Pérez se ha inscrito en 'Algoritmos y Estructuras de Datos'.\n",
            "\n",
            "--- 🚦 Cambiando Estado ---\n",
            "🔄 El estado de Luis Pérez ha cambiado a 🔴 Inactivo.\n",
            "❌ Error: Luis Pérez está False y no puede inscribir cursos.\n",
            "🔄 El estado de Luis Pérez ha cambiado a 🟢 Activo.\n",
            "✅ Luis Pérez se ha inscrito en 'Inteligencia Artificial'.\n",
            "\n",
            "--- 📊 Información Final ---\n",
            "🧑‍🎓 Aprendiz(ID: E001, Nombre: Ana García, Estado: 🟢 Activo)\n",
            "🧑‍🎓 Aprendiz(ID: E002, Nombre: Luis Pérez, Estado: 🟢 Activo)\n",
            "--- ℹ️ Información del Aprendiz ---\n",
            "👤 Nombre: Ana García\n",
            "💳 ID: E001\n",
            "🏢 Institución: SENA - Servicio Nacional de Aprendizaje\n",
            "🚦 Estado: 🟢 Activo\n",
            "📚 Cursos inscritos:\n",
            "  - Introducción a 🐍 Python\n",
            "  - Programación Web con Flask\n",
            "-----------------------------------\n",
            "--- ℹ️ Información del Aprendiz ---\n",
            "👤 Nombre: Luis Pérez\n",
            "💳 ID: E002\n",
            "🏢 Institución: SENA - Servicio Nacional de Aprendizaje\n",
            "🚦 Estado: 🟢 Activo\n",
            "📚 Cursos inscritos:\n",
            "  - Bases de Datos SQL\n",
            "  - Algoritmos y Estructuras de Datos\n",
            "  - Inteligencia Artificial\n",
            "-----------------------------------\n"
          ]
        }
      ]
    },
    {
      "cell_type": "markdown",
      "source": [
        "## 💡 10. Herencia (Concepto Básico) 🧬\n",
        "\n",
        "La **herencia** es un pilar fundamental de la POO que permite crear una **nueva clase** (llamada **clase hija** o **subclase** 👶) que **hereda** atributos y métodos de una **clase existente** (llamada **clase padre** o **superclase** 👨‍👩‍👧).\n",
        "\n",
        "Esto promueve la **reutilización de código** ♻️ y permite crear jerarquías de clases (por ejemplo, `Vehiculo` 🚗 -> `Coche` 🚙, `Moto` 🏍️).\n",
        "\n",
        "**Sintaxis:**"
      ],
      "metadata": {
        "id": "rEOC7NRYrUtn"
      }
    },
    {
      "cell_type": "code",
      "source": [
        "class ClasePadre:\n",
        "    # ... atributos y métodos ...\n",
        "    pass\n",
        "\n",
        "# La clase hija indica la clase padre entre paréntesis\n",
        "class ClaseHija(ClasePadre):\n",
        "    # ... puede añadir NUEVOS atributos/métodos ...\n",
        "    # ... o MODIFICAR (sobrescribir) los heredados ...\n",
        "    pass"
      ],
      "metadata": {
        "id": "5fY7kFusrc_R"
      },
      "execution_count": null,
      "outputs": []
    },
    {
      "cell_type": "markdown",
      "source": [
        "**💻 Código:** Ejemplo simple de herencia - ¡Animales! 🐒🐕🐈"
      ],
      "metadata": {
        "id": "kbvxby_5r1oc"
      }
    },
    {
      "cell_type": "code",
      "source": [
        "# Clase Padre 👨‍👩‍👧\n",
        "class Animal:\n",
        "    def __init__(self, nombre):\n",
        "        self.nombre = nombre\n",
        "        print(f\"🐾 Ha nacido un animal llamado {self.nombre}\")\n",
        "\n",
        "    def comer(self):\n",
        "        print(f\"{self.nombre} está comiendo... 🍎🍌\")\n",
        "\n",
        "    def hablar(self):\n",
        "        # Método genérico que las subclases DEBEN implementar (o dará error)\n",
        "        # Es una forma de definir una \"interfaz\" común\n",
        "        raise NotImplementedError(\"La subclase debe implementar este método 'hablar'\")\n",
        "\n",
        "# Clase Hija (hereda de Animal) 👶🐈\n",
        "class Gato(Animal):\n",
        "    def __init__(self, nombre, vidas=7):\n",
        "        # Llamamos al constructor de la clase padre (Animal) usando super()\n",
        "        # Esto inicializa el atributo 'nombre' heredado\n",
        "        print(f\"🧬 Llamando al constructor de Animal para {nombre}...\")\n",
        "        super().__init__(nombre)\n",
        "        # Atributo específico de Gato 🏷️\n",
        "        self.vidas = vidas\n",
        "        print(f\"🐱 ¡Es un gato! Y le quedan {self.vidas} vidas.\")\n",
        "\n",
        "    # Sobreescribimos (redefinimos) el método hablar de la clase padre ⚙️\n",
        "    def hablar(self):\n",
        "        print(f\"{self.nombre} dice: ¡Miau! 😻\")\n",
        "\n",
        "    # Método específico de Gato ⚙️\n",
        "    def ronronear(self):\n",
        "        print(f\"{self.nombre} está ronroneando: Prrrr... ❤️\")\n",
        "\n",
        "# Clase Hija (hereda de Animal) 👶🐕\n",
        "class Perro(Animal): # ¡Podemos redefinir Perro para que herede de Animal!\n",
        "     def __init__(self, nombre, raza):\n",
        "        print(f\"🧬 Llamando al constructor de Animal para {nombre}...\")\n",
        "        super().__init__(nombre) # Llama al __init__ de Animal para establecer el nombre\n",
        "        self.raza = raza # Atributo específico de Perro 🏷️\n",
        "        print(f\"🐶 ¡Es un perro! De raza {self.raza}.\")\n",
        "\n",
        "     # Sobreescribimos el método hablar ⚙️\n",
        "     def hablar(self):\n",
        "        print(f\"{self.nombre} dice: ¡Guau! 🦴\")\n",
        "\n",
        "     # Método específico de Perro ⚙️\n",
        "     def mover_cola(self):\n",
        "        print(f\"{self.nombre} está moviendo la cola. ✨\")\n",
        "\n",
        "\n",
        "# --- 🚀 Uso de la Herencia ---\n",
        "print(\"\\n--- Creando Instancias ---\")\n",
        "mi_gato = Gato(\"Misu\", 7)\n",
        "print(\"-\" * 10)\n",
        "mi_perro = Perro(\"Bobby\", \"Pastor Alemán\")\n",
        "\n",
        "print(\"\\n--- 🎬 Acciones ---\")\n",
        "mi_gato.comer()    # Método HEREDADO de Animal ✅\n",
        "mi_gato.hablar()   # Método SOBREESCRITO en Gato ✅\n",
        "mi_gato.ronronear()# Método PROPIO de Gato ✅\n",
        "\n",
        "print(\"-\" * 10)\n",
        "\n",
        "mi_perro.comer()     # Método HEREDADO de Animal ✅\n",
        "mi_perro.hablar()    # Método SOBREESCRITO en Perro ✅\n",
        "mi_perro.mover_cola()# Método PROPIO de Perro ✅\n",
        "\n",
        "# La función super() ⬆️ se usa para llamar a métodos de la clase padre.\n",
        "# Es MUY útil en __init__ para no repetir la inicialización de atributos comunes."
      ],
      "metadata": {
        "id": "_qiTG2MCr8E2"
      },
      "execution_count": null,
      "outputs": []
    },
    {
      "cell_type": "markdown",
      "source": [
        "**🔑 Puntos Clave de Herencia 🧬:**\n",
        "\n",
        "*   La clase hija 👶 tiene acceso a todos los atributos y métodos (no privados) de la clase padre 👨‍👩‍👧.\n",
        "*   La clase hija puede **añadir** sus propios atributos y métodos.\n",
        "*   La clase hija puede **sobrescribir** (redefinir) métodos de la clase padre para que se comporten de manera diferente (como hicimos con `hablar`).\n",
        "*   `super().__init__(...)` ⬆️ es la forma común de llamar al constructor de la clase padre desde el constructor de la hija.\n"
      ],
      "metadata": {
        "id": "EHfdconYsV2-"
      }
    },
    {
      "cell_type": "markdown",
      "source": [
        "## 💪 11. ¡Hora de Practicar! Ejercicios ✏️\n",
        "\n",
        "Ahora te toca a ti. Intenta resolver los siguientes ejercicios para afianzar tus conocimientos. ✨\n",
        "\n",
        "**💪 Ejercicio 1: Clase `Rectangulo` 📐**\n",
        "\n",
        "1.  Crea una clase llamada `Rectangulo`.\n",
        "2.  El constructor `__init__` ✨ debe recibir `base` y `altura` como argumentos y guardarlos como atributos de instancia 🏷️.\n",
        "3.  Crea un método llamado `calcular_area` ⚙️ que devuelva el área (`base * altura`).\n",
        "4.  Crea un método llamado `calcular_perimetro` ⚙️ que devuelva el perímetro (`2 * base + 2 * altura`).\n",
        "5.  Crea un método `__str__` 💬 que devuelva una cadena como `\"Rectángulo(Base: B, Altura: H)\"`, donde B y H son los valores de la base y la altura."
      ],
      "metadata": {
        "id": "9cvBEtzvsoJn"
      }
    },
    {
      "cell_type": "markdown",
      "source": [
        "**💪 Ejercicio 2: Clase `CuentaBancaria` 🏦**\n",
        "\n",
        "1.  Crea una clase `CuentaBancaria`.\n",
        "2.  El constructor `__init__` ✨ debe recibir `numero_cuenta`, `titular` y `saldo_inicial` (con valor por defecto 0). Guárdalos como atributos 🏷️. Añade un print que indique la creación.\n",
        "3.  Crea un método `depositar(cantidad)` ⚙️ que añada la `cantidad` al saldo. Debe validar que la cantidad sea positiva (mayor que 0). Imprime mensajes informativos o de error.\n",
        "4.  Crea un método `retirar(cantidad)` ⚙️ que reste la `cantidad` del saldo. Debe validar que la cantidad sea positiva y que haya saldo suficiente. Imprime mensajes informativos o de error.\n",
        "5.  Crea un método `consultar_saldo()` ⚙️ que devuelva el saldo actual.\n",
        "6.  Crea un método `__str__` 💬 que muestre el número de cuenta, titular y saldo formateado (ej. con símbolo de moneda).\n",
        "7.  Crea instancias 📦 y prueba todos los métodos: depositar, retirar (exitoso y fallido por fondos insuficientes), consultar saldo e imprimir la cuenta."
      ],
      "metadata": {
        "id": "Q1P2LSjZs7bs"
      }
    },
    {
      "cell_type": "markdown",
      "source": [
        "**💪 Ejercicio 3: Herencia - Clase `Coche` 🚗 y `CocheElectrico` ⚡️** (Opcional)\n",
        "\n",
        "1.  Crea una clase `Coche` 🚗 con:\n",
        "    *   `__init__` ✨ que reciba `marca`, `modelo`, `velocidad_maxima`.\n",
        "    *   Atributo `velocidad_actual` 🏷️ inicializado en 0.\n",
        "    *   Método `acelerar(incremento)` ⚙️ que aumente `velocidad_actual` sin pasar `velocidad_maxima`. Imprime la nueva velocidad o un mensaje si ya está al máximo.\n",
        "    *   Método `frenar(decremento)` ⚙️ que disminuya `velocidad_actual` sin bajar de 0. Imprime la nueva velocidad o un mensaje si ya está detenido.\n",
        "    *   Método `__str__` 💬 que muestre marca, modelo y velocidad actual.\n",
        "2.  Crea una clase `CocheElectrico` ⚡️ que **herede** de `Coche` 🧬.\n",
        "    *   Su `__init__` ✨ debe recibir `marca`, `modelo`, `velocidad_maxima` y `capacidad_bateria` (en kWh). Debe llamar al `__init__` de `Coche` usando `super()` ⬆️.\n",
        "    *   Añade un atributo `nivel_carga` 🏷️ (en kWh), inicializado con la `capacidad_bateria`.\n",
        "    *   Añade un método `cargar(kwh)` ⚙️ que aumente el `nivel_carga` sin superar la `capacidad_bateria`. Imprime el nuevo nivel de carga o un mensaje si ya está lleno.\n",
        "    *   **Sobrescribe** el método `__str__` 💬 para incluir también el nivel de carga y la capacidad.\n",
        "    *   *(Opcional avanzado)* Modifica `acelerar` en `CocheElectrico` para que, además de llamar al `acelerar` del padre con `super()`, consuma algo de batería (ej., `0.01 * incremento` kWh), asegurándote de que haya carga suficiente para acelerar y que la carga no baje de 0.\n",
        "3.  Crea instancias 📦 de `Coche` y `CocheElectrico` y prueba sus métodos (acelerar, frenar, cargar, imprimir)."
      ],
      "metadata": {
        "id": "_REDfZFjtD65"
      }
    },
    {
      "cell_type": "markdown",
      "source": [
        "## ✅ 12. Conclusión y Resumen ⭐\n",
        "\n",
        "\n",
        "**🔑 Puntos Clave para Recordar:**\n",
        "\n",
        "*   **Clase 📜:** Plantilla o molde (`class MiClase:`). Define atributos y métodos.\n",
        "*   **Objeto/Instancia 📦:** Realización concreta de una clase (`mi_objeto = MiClase()`). Tiene su propio estado (valores de atributos).\n",
        "*   **`__init__` ✨:** Método constructor. Se llama automáticamente al crear un objeto para inicializar sus atributos de instancia (`self.atributo = ...`).\n",
        "*   **`self` 👉:** Referencia a la instancia *actual* dentro de los métodos de esa instancia. Permite acceder a sus atributos (`self.nombre`) y otros métodos (`self.metodo()`).\n",
        "*   **Atributos de Instancia 🏷️:** Datos específicos de *cada* objeto (definidos usualmente en `__init__` con `self.`).\n",
        "*   **Atributos de Clase 🔗:** Datos compartidos por *todas* las instancias de la clase (definidos directamente en la clase, fuera de los métodos).\n",
        "*   **Métodos ⚙️:** Funciones definidas dentro de una clase. Definen el *comportamiento* de los objetos. Reciben `self` como primer argumento (implícitamente).\n",
        "*   **`__str__` 💬:** Método especial para obtener una representación legible del objeto como *string* (usado por `print()` y `str()`).\n",
        "*   **Herencia 🧬:** Mecanismo para crear clases nuevas (hijas 👶) basadas en clases existentes (padres 👨‍👩‍👧), reutilizando y extendiendo funcionalidad (`class Hija(Padre):`).\n",
        "*   **`super()` ⬆️:** Función para llamar a métodos de la clase padre desde la clase hija (muy común en `__init__` para reutilizar la inicialización del padre).\n",
        "\n",
        "La Programación Orientada a Objetos (POO) es una herramienta poderosa para escribir código más **organizado**, **reutilizable** y **mantenible**.\n",
        "\n",
        "\n",
        "\n",
        "¡Felicidades! 🎉 Has aprendido los fundamentos de las **clases y objetos** en 🐍 Python."
      ],
      "metadata": {
        "id": "DnFdZ9fctXFs"
      }
    }
  ]
}